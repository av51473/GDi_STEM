{
 "cells": [
  {
   "cell_type": "markdown",
   "metadata": {},
   "source": [
    "<h1><center><b>Primjena modela strojnog učenja za predviđanje potražnje</b></center></h1>\n"
   ]
  },
  {
   "cell_type": "markdown",
   "metadata": {},
   "source": [
    "Ova bilježnica napravljena je u svrhu natjecanja za dodjelu GDi for STEM nagrade za izvrsnost za 2022. godinu koja je raspisana za  studentice diplomskog studija Sveučilišta u Zagrebu Fakulteta elektrotehnike i računarstva. Zadatak natjecanja je napraviti analizu podatkovnog skupa preuzetog iz GDi Ensemble sustava te pomoću strojnog učenja riješiti predviđanja potražnje. "
   ]
  },
  {
   "cell_type": "markdown",
   "metadata": {},
   "source": [
    "SADRŽAJ\n",
    "1. <a href=#predobrada>Predobrada podataka</a>\n",
    "2. <a href=#analiza>Analiza podataka</a>\n",
    "3. <a href=#inzenjerstvo>Inženjerstvo značajki</a>\n",
    "4. <a href=#odabir>Odabir modela</a>\n",
    "5. <a href=#ucenje>Učenje modela</a>\n",
    "6. <a href=#predvidanje>Predviđanje modela</a>\n",
    "5. <a href=#RMSE>RMSE</a>"
   ]
  },
  {
   "cell_type": "code",
   "execution_count": null,
   "metadata": {},
   "outputs": [],
   "source": [
    "import pandas as pd\n",
    "import numpy as np\n",
    "import matplotlib.pyplot as plt\n",
    "\n",
    "# analiza podataka\n",
    "from sklearn.preprocessing import OneHotEncoder\n",
    "from sklearn.preprocessing import LabelEncoder\n",
    "from sklearn.metrics import mean_squared_error\n",
    "from sklearn.preprocessing import LabelBinarizer\n",
    "from statsmodels.tsa.seasonal import seasonal_decompose\n",
    "import seaborn as sns\n",
    "import plotly.express as px\n",
    "import seaborn as sns\n",
    "\n",
    "# inženjerstvo značajki\n",
    "import holidays\n",
    "hr_holidays = holidays.country_holidays('HR')\n",
    "\n",
    "# učenje modela\n",
    "import xgboost as xgb\n",
    "from xgboost import plot_importance, plot_tree\n",
    "\n",
    "\n",
    "MIN_DATE = '2021-06-22'\n",
    "MAX_DATE =  '2022-07-19'"
   ]
  },
  {
   "cell_type": "code",
   "execution_count": null,
   "metadata": {},
   "outputs": [],
   "source": [
    "# učitavanje podataka\n",
    "data = pd.read_csv('./dataset/task_data.csv')\n",
    "print(data.head())"
   ]
  },
  {
   "cell_type": "markdown",
   "metadata": {},
   "source": [
    "## 1. Predobrada podataka <a name='predobrada' />"
   ]
  },
  {
   "cell_type": "code",
   "execution_count": null,
   "metadata": {},
   "outputs": [],
   "source": [
    "print(type(data['Date']))\n",
    "\n",
    "# tip podataka stupca 'Date' pretvoren u DateTime tip podataka\n",
    "data['Date'] = pd.to_datetime(data['Date'])\n",
    "\n",
    "# stupac 'Date' postavljen kao indeks tablice - treba za umetanje datuma\n",
    "data = data.set_index('Date')\n",
    "data"
   ]
  },
  {
   "cell_type": "code",
   "execution_count": null,
   "metadata": {},
   "outputs": [],
   "source": [
    "# provjera ima li prethodnih nula u tablici\n",
    "print(data[data['Quantity'] == 0])\n",
    "\n",
    "# provjera ima li nedostajućih vrijednosti u tablici\n",
    "print(data[data['Quantity'].isna()])"
   ]
  },
  {
   "cell_type": "code",
   "execution_count": null,
   "metadata": {},
   "outputs": [],
   "source": [
    "# umetanje nedostajućih datuma \n",
    "date_list = pd.date_range(MIN_DATE, MAX_DATE, freq=\"D\")\n",
    "\n",
    "def reindex_by_date(data):\n",
    "    i = data['ItemId'].unique()[0]\n",
    "    data = data.reindex(date_list)\n",
    "\n",
    "    data['ItemId'] = data['ItemId'].fillna(i).astype(int)\n",
    "    data['Quantity'] = data['Quantity'].fillna(0).astype(int)\n",
    "\n",
    "    return data\n",
    "\n",
    "data = data.groupby('ItemId').apply(reindex_by_date).reset_index(0, drop=True)\n",
    "data.index.rename('Date', inplace='True')\n",
    "\n",
    "data.head()"
   ]
  },
  {
   "cell_type": "markdown",
   "metadata": {},
   "source": [
    "## 2. Analiza podataka <a name='analiza' />"
   ]
  },
  {
   "cell_type": "code",
   "execution_count": null,
   "metadata": {},
   "outputs": [],
   "source": [
    "# prikaz količine naručenog proizvoda u ovisnosti o datumu\n",
    "for item in set(data['ItemId']):\n",
    "    f = plt.figure()\n",
    "    f.set_figwidth(50)\n",
    "    f.set_figheight(10)\n",
    "    plt.title('ID = ' + str(item))\n",
    "    plt.xlabel('Time (days)')\n",
    "    plt.ylabel('Quantity')\n",
    "    plt.plot(data[data['ItemId'] == item]['Quantity'])\n",
    "    #plt.savefig('./time_series/ItemId = ' + str(item) + '.png') \n",
    "    plt.figure()"
   ]
  },
  {
   "cell_type": "code",
   "execution_count": null,
   "metadata": {},
   "outputs": [],
   "source": [
    "# moving average\n",
    "for i in data['ItemId'].unique():\n",
    "    subset = data[data['ItemId'] == i].copy()\n",
    "    subset['moving_average'] = subset['Quantity'].rolling(30).mean()\n",
    "    fig = px.line(subset, x=subset.index, y=[\"Quantity\",\"moving_average\"], title = 'item id = ' + str(i))\n",
    "    fig.show()"
   ]
  },
  {
   "cell_type": "code",
   "execution_count": null,
   "metadata": {},
   "outputs": [],
   "source": [
    "# analiza podataka dekompozicijom na sezonalnost, trend i rezidual\n",
    "component_names = ['observed', 'seasonal', 'trend', 'resid']\n",
    "\n",
    "for item in set(data['ItemId']) :\n",
    "    fig, axes = plt.subplots(2,2, figsize=(30,10))\n",
    "    fig.suptitle('ItemId = ' + str(item), fontsize=15)\n",
    "    decomposed = seasonal_decompose(data[data['ItemId'] == item]['Quantity'], model='additive')\n",
    "    components = [decomposed.observed, decomposed.seasonal, decomposed.trend, decomposed.resid]\n",
    "    i = 0\n",
    "    for ax, component in zip(axes.flat, components):\n",
    "        ax.plot(component)\n",
    "        ax.set_xlabel('Time')\n",
    "        ax.set_ylabel(component_names[i])\n",
    "        \n",
    "        i = i+1\n",
    "    #plt.savefig('./seasonal_decompose/ItemId = ' + str(item) + '.png')"
   ]
  },
  {
   "cell_type": "code",
   "execution_count": null,
   "metadata": {},
   "outputs": [],
   "source": [
    "# skup podataka za učenje\n",
    "train_data = data['2021-06-26':'2022-06-19']\n",
    "\n",
    "# skup podataka za evaluaciju\n",
    "test_data = data['2022-06-20':'2022-07-19']"
   ]
  },
  {
   "cell_type": "code",
   "execution_count": null,
   "metadata": {},
   "outputs": [],
   "source": [
    "# prikaz skupa za učenje i skupa za validaciju\n",
    "for item in set(test_data['ItemId']):\n",
    "    plt.plot(test_data[test_data['ItemId'] == item]['Quantity'].index, test_data[test_data['ItemId'] == item]['Quantity'])\n",
    "    plt.plot(train_data[train_data['ItemId'] == item]['Quantity'].index, train_data[train_data['ItemId'] == item]['Quantity'])\n",
    "    plt.figure()\n"
   ]
  },
  {
   "cell_type": "markdown",
   "metadata": {},
   "source": [
    "## 3. Inženjerstvo značajki <a name='inzenjerstvo' />"
   ]
  },
  {
   "cell_type": "code",
   "execution_count": null,
   "metadata": {},
   "outputs": [],
   "source": [
    "def create_features(data, is_train=False) :\n",
    "    data = data.copy()\n",
    "    data['dayofweek'] = data.index.dayofweek\n",
    "    data['quarter'] = data.index.quarter\n",
    "    data['month'] = data.index.month\n",
    "    data['year'] = data.index.year\n",
    "    data['dayofyear'] = data.index.dayofyear\n",
    "    data['dayofmonth'] = data.index.day\n",
    "    data['weekofyear'] = data.index.isocalendar().week.astype('int64')\n",
    "    data['is_holiday'] = pd.DataFrame(index=data.index, data={\"is_holiday\": [date in hr_holidays for date in data.index]})\n",
    "    \n",
    "    if is_train :\n",
    "        data['lag1'] = data.groupby(['ItemId'])['Quantity'].shift(1)\n",
    "        data['lag2'] = data.groupby(['ItemId'])['Quantity'].shift(2)\n",
    "        data['lag3'] = data.groupby(['ItemId'])['Quantity'].shift(3)\n",
    "        data['lag7'] = data.groupby(['ItemId'])['Quantity'].shift(7)\n",
    "        \n",
    "        avg = data.groupby(['ItemId'])['Quantity'].rolling(30).mean().shift(1).reset_index()['Quantity']\n",
    "        avg.index = data.index\n",
    "        data['avg_month'] = avg\n",
    "        \n",
    "        avg = data.groupby(['ItemId'])['Quantity'].rolling(7).mean().shift(1).reset_index()['Quantity']\n",
    "        avg.index = data.index\n",
    "        data['avg_week'] = avg\n",
    "\n",
    "        avg = data.groupby(['ItemId', 'dayofweek'])['Quantity'].rolling(20, min_periods=1).mean().shift(1).reset_index()['Quantity']\n",
    "        avg.index = data.index\n",
    "        data['avg_dayofweek'] = avg\n",
    "        \n",
    "    return data"
   ]
  },
  {
   "cell_type": "code",
   "execution_count": null,
   "metadata": {},
   "outputs": [],
   "source": [
    "train_data = create_features(train_data, True)\n",
    "test_data = create_features(test_data)"
   ]
  },
  {
   "cell_type": "code",
   "execution_count": null,
   "metadata": {},
   "outputs": [],
   "source": [
    "import seaborn as sns\n",
    "\n",
    "plt.figure(figsize=(16, 6))\n",
    "heatmap = sns.heatmap(train_data.corr(), vmin=-1, vmax=1, annot=True)\n",
    "heatmap.set_title('Correlation Heatmap', fontdict={'fontsize':12}, pad=12);"
   ]
  },
  {
   "cell_type": "code",
   "execution_count": null,
   "metadata": {},
   "outputs": [],
   "source": [
    "train_data = train_data.drop(['quarter', 'month', 'year', 'dayofyear', 'dayofmonth', 'weekofyear', 'is_holiday'], axis=1)\n",
    "test_data = test_data.drop(['quarter', 'month', 'year', 'dayofyear', 'dayofmonth', 'weekofyear', 'is_holiday'], axis=1)"
   ]
  },
  {
   "cell_type": "markdown",
   "metadata": {},
   "source": [
    "## 4. Odabir modela <a name='odabir' />"
   ]
  },
  {
   "cell_type": "code",
   "execution_count": null,
   "metadata": {},
   "outputs": [],
   "source": [
    "def transform_row(X_f, row) :\n",
    "    row = pd.DataFrame([row.values], columns = row.index.values, index=[pd.to_datetime(row.name)])\n",
    "    row = row.drop('Quantity', axis=1)\n",
    "    row['lag1'] = X_f.iloc[-1:]['Quantity'].values[0]\n",
    "    row['lag2'] = X_f.iloc[-2:]['Quantity'].values[0]\n",
    "    row['lag3'] = X_f.iloc[-3:]['Quantity'].values[0]\n",
    "    row['lag7'] = X_f.iloc[-7:]['Quantity'].values[0]\n",
    "\n",
    "    row['avg_month'] = X_f['Quantity'].tail(30).mean()\n",
    "    row['avg_week'] = X_f['Quantity'].tail(7).mean()\n",
    "    row['avg_dayofweek'] = X_f[X_f['dayofweek']==row['dayofweek'].values[0]]['Quantity'].tail(20).mean()\n",
    "    return row\n",
    "    "
   ]
  },
  {
   "cell_type": "code",
   "execution_count": null,
   "metadata": {},
   "outputs": [],
   "source": [
    "# grid search\n",
    "\n",
    "max_depth = [2, 5, 7]\n",
    "n_estimators = [10, 100, 250]\n",
    "eta = [0.2, 0.7]\n",
    "\n",
    " # skup podataka za učenje\n",
    "train = data['2021-06-26':'2022-05-20']\n",
    "train = create_features(train, is_train=True)\n",
    "X_train = train.drop('Quantity',axis=1)\n",
    "y_train = train['Quantity']\n",
    "\n",
    "# skup podataka za validaciju\n",
    "val = data['2022-05-21':'2022-06-19']\n",
    "val = create_features(val)\n",
    "X_val = val.drop('Quantity',axis=1)\n",
    "y_val = val['Quantity']\n",
    "\n",
    "for e in eta :\n",
    "    for d in max_depth :\n",
    "        for n in n_estimators :\n",
    "\n",
    "            reg = xgb.XGBRegressor(eta = e, max_depth = d, n_estimators = n)\n",
    "            reg.fit(X_train, y_train, verbose=False)\n",
    "\n",
    "            predicted = []\n",
    "\n",
    "            X = train.copy() # kopiraj skup za učenje u X\n",
    "            for item in set(train['ItemId']) : # iteriraj po proizvodima\n",
    "                i = 0\n",
    "\n",
    "                items = val[val['ItemId'] == item]\n",
    "                for index, row in items.iterrows(): \n",
    "                    X_f = X[X['ItemId'] == item] \n",
    "                    row = transform_row(X_f, row) # izračunaj lag i moving average značajke na temelju X_f\n",
    "\n",
    "                    y_pred = reg.predict(row) # predviđanje primjera skupa za validaciju\n",
    "                    predicted.append(y_pred)\n",
    "                    row['Quantity'] = y_pred\n",
    "\n",
    "                    X = pd.concat([X,row]) # ažuriraj skup podataka x\n",
    "\n",
    "            score = mean_squared_error(predicted, y_val.values, squared=False)\n",
    "            print('hyperparameters= {eta = ' + str(e) + ', max_depth= ' + str(d) + ', n_estimators= ' + str(n)+ '}')\n",
    "            print(f'RMSE Score on Validation set: {score:0.2f}\\n')"
   ]
  },
  {
   "cell_type": "markdown",
   "metadata": {},
   "source": [
    "## 5. Učenje modela <a name='ucenje' />"
   ]
  },
  {
   "cell_type": "code",
   "execution_count": null,
   "metadata": {},
   "outputs": [],
   "source": [
    "TARGET = 'Quantity'\n",
    "\n",
    "y_train = train_data[TARGET]\n",
    "X_train = train_data.drop(TARGET, axis=1)\n",
    "\n",
    "y_test = test_data[TARGET]\n",
    "X_test = test_data.drop(TARGET, axis=1)"
   ]
  },
  {
   "cell_type": "code",
   "execution_count": null,
   "metadata": {},
   "outputs": [],
   "source": [
    "X_train = train_data.drop(TARGET, axis=1)\n",
    "X_test = test_data.drop(TARGET, axis=1)"
   ]
  },
  {
   "cell_type": "code",
   "execution_count": null,
   "metadata": {
    "scrolled": true
   },
   "outputs": [],
   "source": [
    "# učenje odabranog modela na skupu podataka za učenje\n",
    "reg = xgb.XGBRegressor(eta=0.7,  n_estimators=250, max_depth=2)\n",
    "reg.fit(X_train, y_train) "
   ]
  },
  {
   "cell_type": "code",
   "execution_count": null,
   "metadata": {},
   "outputs": [],
   "source": [
    "## prikaz predviđene količine i stvarne količine naručenog proizvoda na skupu podataka za učenje\n",
    "predicted = reg.predict(X_train)\n",
    "\n",
    "predicted = pd.DataFrame(predicted)\n",
    "\n",
    "predicted['ItemId'] = X_train.reset_index()['ItemId']\n",
    "for item in set(train_data['ItemId']):\n",
    "    plt.plot(train_data[train_data['ItemId'] == item]['Quantity'])\n",
    "    plt.plot(X_train[train_data['ItemId'] == item].index, predicted[predicted['ItemId'] == item][0])\n",
    "    plt.figure()"
   ]
  },
  {
   "cell_type": "markdown",
   "metadata": {},
   "source": [
    "## 6. Predviđanje modela <a name='predvidanje' />"
   ]
  },
  {
   "cell_type": "code",
   "execution_count": null,
   "metadata": {},
   "outputs": [],
   "source": [
    "# predviđanje modela \n",
    "import warnings\n",
    "warnings.filterwarnings(\"ignore\")\n",
    "\n",
    "X = X_train.copy()\n",
    "X['Quantity'] = y_train\n",
    "y = y_train.copy()\n",
    "\n",
    "predicted = []\n",
    "for item in set(test_data['ItemId']) :\n",
    "    items = test_data[test_data['ItemId'] == item]\n",
    "\n",
    "    for index, row in items.iterrows():\n",
    "        X_f = X[X['ItemId'] == item]\n",
    "        row = transform_row(X_f, row)\n",
    "                \n",
    "        y_pred = reg.predict(row)\n",
    "        predicted.append(y_pred)\n",
    "        row['Quantity'] = y_pred\n",
    "    \n",
    "        X = pd.concat([X,row])"
   ]
  },
  {
   "cell_type": "code",
   "execution_count": null,
   "metadata": {},
   "outputs": [],
   "source": [
    "# prikaz količine naručenog proizvoda iz skupa za validaciju i predviđene količine naručenog proizvoda\n",
    "predicted = pd.DataFrame(predicted)\n",
    "predicted['ItemId'] = X_test.reset_index()['ItemId']\n",
    "\n",
    "for item in set(test_data['ItemId']):\n",
    "    f = plt.figure()\n",
    "    f.set_figwidth(30)\n",
    "    f.set_figheight(10)\n",
    "    plt.title('ID = ' + str(item))\n",
    "    plt.xlabel('Time (days)')\n",
    "    plt.ylabel('Quantity')\n",
    "    plt.plot(test_data[test_data['ItemId'] == item]['Quantity'])\n",
    "    plt.plot(X_test[test_data['ItemId'] == item].index, predicted[predicted['ItemId'] == item][0])\n",
    "    plt.figure()"
   ]
  },
  {
   "cell_type": "code",
   "execution_count": null,
   "metadata": {},
   "outputs": [],
   "source": [
    "# prikaz važnosti značajki u modelu\n",
    "_ = plot_importance(reg, height=0.9)"
   ]
  },
  {
   "cell_type": "markdown",
   "metadata": {},
   "source": [
    "## 7. RMSE <a name='RMSE' />"
   ]
  },
  {
   "cell_type": "code",
   "execution_count": null,
   "metadata": {},
   "outputs": [],
   "source": [
    "# rezultat predviđanja modela na skupu za validaciju\n",
    "score = mean_squared_error(predicted[0], y_test.values, squared=False)\n",
    "print(f'RMSE Score on Test set: {score:0.2f}')    "
   ]
  }
 ],
 "metadata": {
  "kernelspec": {
   "display_name": "Python 3 (ipykernel)",
   "language": "python",
   "name": "python3"
  },
  "language_info": {
   "codemirror_mode": {
    "name": "ipython",
    "version": 3
   },
   "file_extension": ".py",
   "mimetype": "text/x-python",
   "name": "python",
   "nbconvert_exporter": "python",
   "pygments_lexer": "ipython3",
   "version": "3.9.13"
  }
 },
 "nbformat": 4,
 "nbformat_minor": 4
}
